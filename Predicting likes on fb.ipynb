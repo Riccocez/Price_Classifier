{
 "cells": [
  {
   "cell_type": "code",
   "execution_count": 30,
   "metadata": {
    "collapsed": false
   },
   "outputs": [],
   "source": [
    "import pandas as pd\n",
    "import numpy as np\n",
    "import re\n",
    "import nltk\n",
    "import enchant\n",
    "from guess_language import guess_language\n",
    "from nltk.corpus import stopwords\n",
    "from sklearn.feature_extraction.text import CountVectorizer\n",
    "from sklearn.utils import shuffle\n",
    "\n",
    "from sklearn.cross_validation import StratifiedKFold\n",
    "from sklearn.naive_bayes import MultinomialNB\n",
    "from sklearn.ensemble import RandomForestClassifier\n",
    "from sklearn.neighbors import KNeighborsClassifier\n",
    "from imblearn.metrics import classification_report_imbalanced\n",
    "from sklearn import svm\n",
    "from nltk.tokenize import TweetTokenizer\n",
    "from Visualization import Visualization\n",
    "from sklearn.cross_validation import StratifiedKFold\n",
    "from sklearn.metrics import confusion_matrix\n",
    "from imblearn.over_sampling import ADASYN, SMOTE, RandomOverSampler\n",
    "from imblearn.under_sampling import RandomUnderSampler\n",
    "from sklearn import decomposition\n",
    "from sklearn import linear_model"
   ]
  },
  {
   "cell_type": "code",
   "execution_count": 2,
   "metadata": {
    "collapsed": true
   },
   "outputs": [],
   "source": [
    "%matplotlib inline\n",
    "%config InlineBackend.figure_format='retina'"
   ]
  },
  {
   "cell_type": "code",
   "execution_count": 4,
   "metadata": {
    "collapsed": false
   },
   "outputs": [],
   "source": [
    "# Read all data\n",
    "fb = pd.read_json('data-sample/facebook-rotterdam-20170131.json',lines=True)\n",
    "go = pd.read_json('data-sample/google-rotterdam-20170207.json',lines=True)\n",
    "fac = pd.read_csv('data-sample/factual-rotterdam-20170207.csv')"
   ]
  },
  {
   "cell_type": "code",
   "execution_count": 6,
   "metadata": {
    "collapsed": false
   },
   "outputs": [
    {
     "data": {
      "text/plain": [
       "((14516, 74), (91242, 25), (53828, 30))"
      ]
     },
     "execution_count": 6,
     "metadata": {},
     "output_type": "execute_result"
    }
   ],
   "source": [
    "#original size of data\n",
    "fb.shape, go.shape, fac.shape"
   ]
  },
  {
   "cell_type": "code",
   "execution_count": 7,
   "metadata": {
    "collapsed": true
   },
   "outputs": [],
   "source": [
    "# select potential features\n",
    "fb = fb[['__location','__reference','__timestamp','_id','about','awards',\n",
    "    'category','category_list','description','emails','hours', 'is_published',\n",
    "    'likes','location','name', 'parking','place_topics', 'price_range', 'products', \n",
    "    'restaurant_specialties','talking_about_count','website']]\n",
    "\n",
    "go = go[['_id','address_components','formatted_address','loc','name',\n",
    "    'rating','price_level','vicinity']]\n",
    "\n",
    "fac = fac[['name','address','locality','region','latitude',\n",
    "     'longitude','neighborhood','hours','existence']]"
   ]
  },
  {
   "cell_type": "code",
   "execution_count": 8,
   "metadata": {
    "collapsed": false
   },
   "outputs": [],
   "source": [
    "#get location \n",
    "fb = fb.drop(fb.index[[482,8276,8280]])\n",
    "fb['longitude'] = [i['coordinates'][1] for i in fb['__location']]\n",
    "fb['latitude'] = [i['coordinates'][0] for i in fb['__location']]"
   ]
  },
  {
   "cell_type": "code",
   "execution_count": null,
   "metadata": {
    "collapsed": false
   },
   "outputs": [],
   "source": [
    "#fb.hours = fb.hours.fillna('0')\n",
    "#hours = fb.hours.unique()\n",
    "#fb['hours'] = fb.hours.replace(hours,range(1,len(hours)+1))"
   ]
  },
  {
   "cell_type": "code",
   "execution_count": 9,
   "metadata": {
    "collapsed": false
   },
   "outputs": [],
   "source": [
    "# preprocess interesting features\n",
    "fb = fb.dropna(subset=['likes'],how='any')\n",
    "fb = fb.reset_index()\n",
    "fb['likes'] = [fb.likes[i]['$numberLong'] for i in range(len(fb))]\n",
    "go['id'] = [go['_id'][i]['$oid'] for i in range(len(go))]"
   ]
  },
  {
   "cell_type": "code",
   "execution_count": 10,
   "metadata": {
    "collapsed": false
   },
   "outputs": [],
   "source": [
    "# filter most informative fields\n",
    "fb = fb[['_id','name','category','price_range','about','latitude','longitude','description','likes']]\n",
    "go = go[['id','name','rating','price_level']]\n",
    "fac = fac[['name','hours','existence']]"
   ]
  },
  {
   "cell_type": "code",
   "execution_count": 11,
   "metadata": {
    "collapsed": false
   },
   "outputs": [],
   "source": [
    "tmp_df = pd.merge(fb,go, how = 'left', left_on = 'name', right_on = 'name')"
   ]
  },
  {
   "cell_type": "code",
   "execution_count": 12,
   "metadata": {
    "collapsed": false
   },
   "outputs": [],
   "source": [
    "# label price\n",
    "pd.options.mode.chained_assignment = None\n",
    "df = tmp_df[['name','category','price_range','price_level','rating','about','latitude','longitude',\n",
    "            'description','likes']]\n",
    "\n",
    "df['price'] = np.NaN\n",
    "\n",
    "for i in range(len(df)):\n",
    "    if isinstance(df['price_range'][i], str):\n",
    "        df['price'][i] = df['price_range'][i].count('$')\n",
    "    elif not np.isnan(df['price_level'][i]):\n",
    "        df['price'][i] = df['price_level'][i]"
   ]
  },
  {
   "cell_type": "code",
   "execution_count": 13,
   "metadata": {
    "collapsed": false
   },
   "outputs": [],
   "source": [
    "#select data to train price estimator\n",
    "data = df[['name','category','rating','about','price','latitude','longitude','description','likes']].loc[df['price'] >= 0]\n",
    "data = data.reset_index()\n",
    "del data['index']"
   ]
  },
  {
   "cell_type": "code",
   "execution_count": 14,
   "metadata": {
    "collapsed": false
   },
   "outputs": [],
   "source": [
    "# labels for categories\n",
    "home = {'home','improvement'}\n",
    "web = {'web', 'designer', 'website','personal website'}\n",
    "salon = {'hair','nail','salon','fashion'}\n",
    "media = {'media','news','telecom'}\n",
    "school = {'school','education','college','university','library'}\n",
    "health = {'medical','hospital','health','clinic', 'doctor'}\n",
    "gov = {'government','public services','community','non-profit'}\n",
    "public = {'landmark','historical place','geographical','public place','neighborhood','city'}\n",
    "fitness = {'fitness','beauty','spa','care','trainer','club','performance','coach'}\n",
    "travel = {'traveling','tour','agency','travel','hotel','lodging','attractions','things to do'}\n",
    "event = {'event','planning','planner','agency'}\n",
    "sport = {'sports','arena','stadium','entertainment'}\n",
    "ent = {'arts','recreation','movie','museum','art','gallery','artist'}\n",
    "comp = {'local', 'business','professional', 'service','organization',\n",
    "        'consulting','company','business','professional','finance','religious'}\n",
    "shop = {'shopping','retail','grocery','store','book','electronics','jewelry','watches','apparel'}\n",
    "bar = {'bar','food','beverage','cafe','nightlife','restaurant','café'}\n",
    "others = {'pet','automotive'}\n",
    "\n",
    "categ_set = home | web | salon | media | school | health | gov | public | fitness | travel | event | sport | ent | comp | shop | bar | others\n",
    "categ = [home, web, salon, media, school, health, gov, public, fitness, travel, event,\n",
    "         sport, ent, comp,shop,bar,others]"
   ]
  },
  {
   "cell_type": "code",
   "execution_count": 15,
   "metadata": {
    "collapsed": false
   },
   "outputs": [],
   "source": [
    "d = enchant.Dict(\"en_US\")\n",
    "def label_category(category):\n",
    "    \n",
    "    tmp_wrd = nltk.wordpunct_tokenize(category)\n",
    "    label = np.NaN\n",
    "    \n",
    "    for word in tmp_wrd:\n",
    "        if d.check(word):\n",
    "            unique = 0\n",
    "            \n",
    "            for i in range(len(categ)):\n",
    "                if word.lower() in categ[i]:\n",
    "                    if unique != 1:\n",
    "                        label = i\n",
    "                        unique = 1\n",
    "\n",
    "    return label          "
   ]
  },
  {
   "cell_type": "code",
   "execution_count": 16,
   "metadata": {
    "collapsed": false
   },
   "outputs": [],
   "source": [
    "data['category'] = [label_category(i) for i in data['category']]\n",
    "data.about = data.about.fillna('none')"
   ]
  },
  {
   "cell_type": "code",
   "execution_count": 17,
   "metadata": {
    "collapsed": false
   },
   "outputs": [],
   "source": [
    "#include stop words\n",
    "stop_du = set(stopwords.words('dutch'))\n",
    "stop_en = set(stopwords.words('english'))\n",
    "stop_others = {'www','com','visit','rotterdam','netherlands','pagina','welkom','vind','emails', 'based',\n",
    "             'kart', 'based', 'info', 'follow','specialist','email','online','airport'}\n",
    "\n",
    "stops = stop_du | stop_en | stop_others | categ_set"
   ]
  },
  {
   "cell_type": "code",
   "execution_count": 18,
   "metadata": {
    "collapsed": false
   },
   "outputs": [],
   "source": [
    "def remove_stops(data,columnName):\n",
    "    \n",
    "    reviews = []\n",
    "\n",
    "    for review in data[columnName]:\n",
    "        review = nltk.wordpunct_tokenize(review)\n",
    "        text_prosc = [word.lower() for word in review if not word.lower() in stops and word.isalpha()]\n",
    "        cleaned_text = \" \".join(text_prosc)\n",
    "        reviews.append(cleaned_text)\n",
    "    return reviews"
   ]
  },
  {
   "cell_type": "code",
   "execution_count": 19,
   "metadata": {
    "collapsed": false
   },
   "outputs": [],
   "source": [
    "data['rel_words'] = remove_stops(data,'about')"
   ]
  },
  {
   "cell_type": "code",
   "execution_count": 21,
   "metadata": {
    "collapsed": false
   },
   "outputs": [],
   "source": [
    "data['language'] = [guess_language(text) for text in data.rel_words]"
   ]
  },
  {
   "cell_type": "code",
   "execution_count": null,
   "metadata": {
    "collapsed": false
   },
   "outputs": [],
   "source": []
  },
  {
   "cell_type": "code",
   "execution_count": 22,
   "metadata": {
    "collapsed": true
   },
   "outputs": [],
   "source": [
    "gldn_data = go[['name','rating','price_level']]"
   ]
  },
  {
   "cell_type": "code",
   "execution_count": 23,
   "metadata": {
    "collapsed": false
   },
   "outputs": [],
   "source": [
    "tmp_df = pd.merge(gldn_data, fb, how = 'left', left_on = 'name', right_on = 'name')"
   ]
  },
  {
   "cell_type": "code",
   "execution_count": 24,
   "metadata": {
    "collapsed": false
   },
   "outputs": [],
   "source": [
    "lab_lang = data.language.unique()\n",
    "data['language'] = data.language.replace(lab_lang, range(1,len(lab_lang)+1))"
   ]
  },
  {
   "cell_type": "code",
   "execution_count": 25,
   "metadata": {
    "collapsed": false
   },
   "outputs": [],
   "source": [
    "data = data[['category','rating','price','rel_words','language','latitude','longitude','likes']]"
   ]
  },
  {
   "cell_type": "code",
   "execution_count": 26,
   "metadata": {
    "collapsed": false
   },
   "outputs": [],
   "source": [
    "data = data.fillna(data.rating.mean())"
   ]
  },
  {
   "cell_type": "code",
   "execution_count": 28,
   "metadata": {
    "collapsed": false
   },
   "outputs": [],
   "source": [
    "#ADD MORE FEATURES\n",
    "add_feats = data[['category','rating','latitude','longitude','price']]\n",
    "a_feats = add_feats.values"
   ]
  },
  {
   "cell_type": "code",
   "execution_count": 34,
   "metadata": {
    "collapsed": false
   },
   "outputs": [],
   "source": [
    "train_size = 0.7\n",
    "RANDOM_STATE = 42\n",
    "x_fts = a_feats \n",
    "\n",
    "\n",
    "\"\"\"\n",
    "pca = decomposition.PCA(n_components=10)\n",
    "pca.fit(x_fts)\n",
    "x_fts = pca.transform(x_fts)\n",
    "\"\"\"\n",
    "\n",
    "    \n",
    "train_size = int(len(x_fts)* train_size)\n",
    "#shuffle(data)\n",
    "\n",
    "x_train, y_train = x_fts[0:train_size], data['likes'][0:train_size]\n",
    "X_test, Y_test = x_fts[train_size:], data['likes'][train_size:]"
   ]
  },
  {
   "cell_type": "code",
   "execution_count": 33,
   "metadata": {
    "collapsed": false
   },
   "outputs": [],
   "source": [
    "#ros = RandomUnderSampler(random_state=RANDOM_STATE)\n",
    "\n",
    "#x_train, y_train = ros.fit_sample(x_train, y_train)\n",
    "#X_test, Y_test = ros.fit_sample(X_test, Y_test)"
   ]
  },
  {
   "cell_type": "code",
   "execution_count": 36,
   "metadata": {
    "collapsed": false
   },
   "outputs": [
    {
     "name": "stderr",
     "output_type": "stream",
     "text": [
      "/Users/rcortez/anaconda/envs/python3/lib/python3.5/site-packages/sklearn/cross_validation.py:552: Warning: The least populated class in y has only 1 members, which is too few. The minimum number of labels for any class cannot be less than n_folds=5.\n",
      "  % (min_labels, self.n_folds)), Warning)\n"
     ]
    }
   ],
   "source": [
    "cross_validation =   StratifiedKFold (y_train,n_folds=5, random_state=RANDOM_STATE)\n",
    "\n",
    "scores = []\n",
    "confusion_matrices = []\n",
    "clf_models = []\n",
    "avgs = []\n",
    "\n",
    "for train_index,test_index in cross_validation:\n",
    "\n",
    "    clf = None\n",
    "\n",
    "    dx_train, dy_train = x_train[train_index], y_train[train_index]\n",
    "    dx_test, dy_test = x_train[test_index], y_train[test_index]\n",
    "    \n",
    "    #clf = MultinomialNB()#.fit(dx_train, dy_train)\n",
    "    #clf = RandomForestClassifier(n_estimators= 25, n_jobs=-1)\n",
    "    #clf = KNeighborsClassifier(n_neighbors=3)\n",
    "    clf = linear_model.LinearRegression()\n",
    "    clf.fit(dx_train, dy_train)\n",
    "    clf_models.append(clf)\n",
    "    \n",
    "    # Saving the scores.\n",
    "    test_score = clf.score(dx_test, dy_test)\n",
    "    \"\"\"\n",
    "    test_preds = clf.predict(dx_test)\n",
    "    rep = classification_report_imbalanced(dy_test, test_preds)\n",
    "    txt_rep = nltk.word_tokenize(rep[428:])\n",
    "    \n",
    "    avg_total = [float(txt_rep[i]) for i in range(3,len(txt_rep))]\n",
    "    avgs.append(avg_total)\n",
    "    scores.append(test_score)\n",
    "\n",
    "\n",
    "    # Saving the confusion matrices.\n",
    "    data_classes_pred = clf.predict(dx_test) \n",
    "    cm = confusion_matrix(dy_test, test_preds)\n",
    "    confusion_matrices.append(cm)\n",
    "    \n",
    "print('Average precision :', str(np.mean([avgs[i][0] for i in range(len(avgs))])))\n",
    "print('Average recall :', str(np.mean([avgs[i][1] for i in range(len(avgs))])))\n",
    "print('Average F-score :', str(np.mean([avgs[i][3] for i in range(len(avgs))])))\n",
    "\n",
    "\"\"\""
   ]
  },
  {
   "cell_type": "code",
   "execution_count": 37,
   "metadata": {
    "collapsed": false
   },
   "outputs": [
    {
     "data": {
      "text/plain": [
       "LinearRegression(copy_X=True, fit_intercept=True, n_jobs=1, normalize=False)"
      ]
     },
     "execution_count": 37,
     "metadata": {},
     "output_type": "execute_result"
    }
   ],
   "source": [
    "#clf = MultinomialNB()#.fit(x_train, y_train)\n",
    "#clf = RandomForestClassifier(n_estimators= 25, n_jobs=-1,random_state=RANDOM_STATE)\n",
    "#clf = svm.SVC(decision_function_shape='ovo',random_state=RANDOM_STATE,probability=True)\n",
    "#clf = KNeighborsClassifier(n_neighbors=5)\n",
    "clf = linear_model.LinearRegression()\n",
    "clf.fit(x_train,y_train)"
   ]
  },
  {
   "cell_type": "code",
   "execution_count": 38,
   "metadata": {
    "collapsed": true
   },
   "outputs": [],
   "source": [
    "test_preds = clf.predict(X_test)"
   ]
  },
  {
   "cell_type": "code",
   "execution_count": null,
   "metadata": {
    "collapsed": false
   },
   "outputs": [],
   "source": []
  },
  {
   "cell_type": "code",
   "execution_count": 39,
   "metadata": {
    "collapsed": false
   },
   "outputs": [
    {
     "data": {
      "text/plain": [
       "-2.7182055957266686"
      ]
     },
     "execution_count": 39,
     "metadata": {},
     "output_type": "execute_result"
    }
   ],
   "source": [
    "clf.score(X_test,Y_test)"
   ]
  },
  {
   "cell_type": "code",
   "execution_count": 349,
   "metadata": {
    "collapsed": false
   },
   "outputs": [
    {
     "data": {
      "image/png": "[encoded data removed]",
      "text/plain": [
       "<matplotlib.figure.Figure at 0x1949f96a0>"
      ]
     },
     "metadata": {
      "image/png": {
       "height": 386,
       "width": 455
      }
     },
     "output_type": "display_data"
    }
   ],
   "source": [
    "vis.plot_confusion_matrix(Y_test, test_preds, \n",
    "                          'Prediction of Price with the Naive Bayes Classifier',color='gray')"
   ]
  },
  {
   "cell_type": "code",
   "execution_count": null,
   "metadata": {
    "collapsed": true
   },
   "outputs": [],
   "source": []
  },
  {
   "cell_type": "code",
   "execution_count": null,
   "metadata": {
    "collapsed": true
   },
   "outputs": [],
   "source": []
  }
 ],
 "metadata": {
  "kernelspec": {
   "display_name": "Python 3",
   "language": "python",
   "name": "python3"
  },
  "language_info": {
   "codemirror_mode": {
    "name": "ipython",
    "version": 3
   },
   "file_extension": ".py",
   "mimetype": "text/x-python",
   "name": "python",
   "nbconvert_exporter": "python",
   "pygments_lexer": "ipython3",
   "version": "3.5.2"
  }
 },
 "nbformat": 4,
 "nbformat_minor": 2
}
