{
 "cells": [
  {
   "cell_type": "code",
   "execution_count": 1,
   "metadata": {
    "collapsed": true
   },
   "outputs": [],
   "source": [
    "from nltk.corpus import stopwords"
   ]
  },
  {
   "cell_type": "code",
   "execution_count": 2,
   "metadata": {
    "collapsed": true
   },
   "outputs": [],
   "source": [
    "class label(object):\n",
    "    \n",
    "    def __init__(self):\n",
    "        \n",
    "        self.set_categories()\n",
    "        self.set_stop_wrds()\n",
    "       \n",
    "        pass\n",
    "    \n",
    "    \n",
    "    \n",
    "    def set_categories(self):\n",
    "        \n",
    "        home = {'home','improvement'}\n",
    "        web = {'web', 'designer', 'website','personal website'}\n",
    "        salon = {'hair','nail','salon','fashion'}\n",
    "        media = {'media','news','telecom'}\n",
    "        school = {'school','education','college','university','library'}\n",
    "        health = {'medical','hospital','health','clinic', 'doctor'}\n",
    "        gov = {'government','public services','community','non-profit'}\n",
    "        public = {'landmark','historical place','geographical','public place','neighborhood','city'}\n",
    "        fitness = {'fitness','beauty','spa','care','trainer','club','performance','coach'}\n",
    "        travel = {'traveling','tour','agency','travel','hotel','lodging','attractions','things to do'}\n",
    "        event = {'event','planning','planner','agency'}\n",
    "        sport = {'sports','arena','stadium','entertainment'}\n",
    "        ent = {'arts','recreation','movie','museum','art','gallery','artist'}\n",
    "        comp = {'local', 'business','professional', 'service','organization',\n",
    "                'consulting','company','business','professional','finance','religious'}\n",
    "        shop = {'shopping','retail','grocery','store','book','electronics','jewelry','watches','apparel'}\n",
    "        bar = {'bar','food','beverage','cafe','nightlife','restaurant','café'}\n",
    "        others = {'pet','automotive'}\n",
    "        \n",
    "        self.categ_set = home | web | salon | media | school | health | gov | public | fitness | travel | event | sport | ent | comp | shop | bar | others\n",
    "        self.categ = [home, web, salon, media, school, health, gov, public, fitness, travel, event,\n",
    "                         sport, ent, comp,shop,bar,others]\n",
    "\n",
    "        return\n",
    "    \n",
    "    def set_stop_wrds(self):\n",
    "        \n",
    "        stop_du = set(stopwords.words('dutch'))\n",
    "        stop_en = set(stopwords.words('english'))\n",
    "        stop_others = {'www','com','visit','rotterdam','netherlands','pagina','welkom','vind','emails', 'based',\n",
    "                         'kart', 'based', 'info', 'follow','specialist','email','online','airport'}\n",
    "\n",
    "        self.stops = stop_du | stop_en | stop_others\n",
    "        \n",
    "        return\n",
    "        "
   ]
  },
  {
   "cell_type": "code",
   "execution_count": null,
   "metadata": {
    "collapsed": true
   },
   "outputs": [],
   "source": []
  }
 ],
 "metadata": {
  "kernelspec": {
   "display_name": "Python 3",
   "language": "python",
   "name": "python3"
  },
  "language_info": {
   "codemirror_mode": {
    "name": "ipython",
    "version": 3
   },
   "file_extension": ".py",
   "mimetype": "text/x-python",
   "name": "python",
   "nbconvert_exporter": "python",
   "pygments_lexer": "ipython3",
   "version": "3.5.2"
  }
 },
 "nbformat": 4,
 "nbformat_minor": 2
}
